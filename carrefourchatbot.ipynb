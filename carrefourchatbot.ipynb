{
 "cells": [
  {
   "cell_type": "code",
   "execution_count": 1,
   "id": "2632c44c",
   "metadata": {},
   "outputs": [
    {
     "name": "stdout",
     "output_type": "stream",
     "text": [
      "\u001b[38;5;2m✔ Download and installation successful\u001b[0m\n",
      "You can now load the package via spacy.load('en_core_web_sm')\n",
      "\u001b[38;5;3m⚠ Restart to reload dependencies\u001b[0m\n",
      "If you are in a Jupyter or Colab notebook, you may need to restart Python in\n",
      "order to load all the package's dependencies. You can do this by selecting the\n",
      "'Restart kernel' or 'Restart runtime' option.\n"
     ]
    }
   ],
   "source": [
    "\n",
    "\n",
    "import pandas as pd\n",
    "import spacy\n",
    "\n",
    "# Download spaCy English model if not already present\n",
    "import spacy.cli\n",
    "spacy.cli.download(\"en_core_web_sm\")\n",
    "\n",
    "# Load spaCy English model\n",
    "nlp = spacy.load(\"en_core_web_sm\")"
   ]
  },
  {
   "cell_type": "code",
   "execution_count": 2,
   "id": "bca4db86",
   "metadata": {},
   "outputs": [
    {
     "data": {
      "text/html": [
       "<div>\n",
       "<style scoped>\n",
       "    .dataframe tbody tr th:only-of-type {\n",
       "        vertical-align: middle;\n",
       "    }\n",
       "\n",
       "    .dataframe tbody tr th {\n",
       "        vertical-align: top;\n",
       "    }\n",
       "\n",
       "    .dataframe thead th {\n",
       "        text-align: right;\n",
       "    }\n",
       "</style>\n",
       "<table border=\"1\" class=\"dataframe\">\n",
       "  <thead>\n",
       "    <tr style=\"text-align: right;\">\n",
       "      <th></th>\n",
       "      <th>question</th>\n",
       "      <th>answer</th>\n",
       "    </tr>\n",
       "  </thead>\n",
       "  <tbody>\n",
       "    <tr>\n",
       "      <th>0</th>\n",
       "      <td>Do you have fresh bananas in stock?</td>\n",
       "      <td>Yes, fresh bananas are available daily in the ...</td>\n",
       "    </tr>\n",
       "    <tr>\n",
       "      <th>1</th>\n",
       "      <td>How much is a kilogram of tomatoes?</td>\n",
       "      <td>A kilogram of tomatoes currently costs around ...</td>\n",
       "    </tr>\n",
       "    <tr>\n",
       "      <th>2</th>\n",
       "      <td>Do you sell local vegetables like sukuma wiki?</td>\n",
       "      <td>Yes, we stock sukuma wiki and other local vege...</td>\n",
       "    </tr>\n",
       "    <tr>\n",
       "      <th>3</th>\n",
       "      <td>Are your milk products sourced locally?</td>\n",
       "      <td>Most of our milk products are sourced from Ken...</td>\n",
       "    </tr>\n",
       "    <tr>\n",
       "      <th>4</th>\n",
       "      <td>What are the prices for cooking oil?</td>\n",
       "      <td>Prices for cooking oil range from KES 350 to K...</td>\n",
       "    </tr>\n",
       "  </tbody>\n",
       "</table>\n",
       "</div>"
      ],
      "text/plain": [
       "                                         question  \\\n",
       "0             Do you have fresh bananas in stock?   \n",
       "1             How much is a kilogram of tomatoes?   \n",
       "2  Do you sell local vegetables like sukuma wiki?   \n",
       "3         Are your milk products sourced locally?   \n",
       "4            What are the prices for cooking oil?   \n",
       "\n",
       "                                              answer  \n",
       "0  Yes, fresh bananas are available daily in the ...  \n",
       "1  A kilogram of tomatoes currently costs around ...  \n",
       "2  Yes, we stock sukuma wiki and other local vege...  \n",
       "3  Most of our milk products are sourced from Ken...  \n",
       "4  Prices for cooking oil range from KES 350 to K...  "
      ]
     },
     "execution_count": 2,
     "metadata": {},
     "output_type": "execute_result"
    }
   ],
   "source": [
    "\n",
    "# Load dataset\n",
    "df = pd.read_csv(\"carrefour datset.csv\")\n",
    "df.head()"
   ]
  },
  {
   "cell_type": "code",
   "execution_count": 3,
   "id": "f4a04a7b",
   "metadata": {},
   "outputs": [
    {
     "data": {
      "text/html": [
       "<div>\n",
       "<style scoped>\n",
       "    .dataframe tbody tr th:only-of-type {\n",
       "        vertical-align: middle;\n",
       "    }\n",
       "\n",
       "    .dataframe tbody tr th {\n",
       "        vertical-align: top;\n",
       "    }\n",
       "\n",
       "    .dataframe thead th {\n",
       "        text-align: right;\n",
       "    }\n",
       "</style>\n",
       "<table border=\"1\" class=\"dataframe\">\n",
       "  <thead>\n",
       "    <tr style=\"text-align: right;\">\n",
       "      <th></th>\n",
       "      <th>question</th>\n",
       "      <th>cleaned_question</th>\n",
       "    </tr>\n",
       "  </thead>\n",
       "  <tbody>\n",
       "    <tr>\n",
       "      <th>0</th>\n",
       "      <td>Do you have fresh bananas in stock?</td>\n",
       "      <td>do you have fresh banana in stock</td>\n",
       "    </tr>\n",
       "    <tr>\n",
       "      <th>1</th>\n",
       "      <td>How much is a kilogram of tomatoes?</td>\n",
       "      <td>how much be a kilogram of tomato</td>\n",
       "    </tr>\n",
       "    <tr>\n",
       "      <th>2</th>\n",
       "      <td>Do you sell local vegetables like sukuma wiki?</td>\n",
       "      <td>do you sell local vegetable like sukuma wiki</td>\n",
       "    </tr>\n",
       "    <tr>\n",
       "      <th>3</th>\n",
       "      <td>Are your milk products sourced locally?</td>\n",
       "      <td>be your milk product source locally</td>\n",
       "    </tr>\n",
       "    <tr>\n",
       "      <th>4</th>\n",
       "      <td>What are the prices for cooking oil?</td>\n",
       "      <td>what be the price for cook oil</td>\n",
       "    </tr>\n",
       "  </tbody>\n",
       "</table>\n",
       "</div>"
      ],
      "text/plain": [
       "                                         question  \\\n",
       "0             Do you have fresh bananas in stock?   \n",
       "1             How much is a kilogram of tomatoes?   \n",
       "2  Do you sell local vegetables like sukuma wiki?   \n",
       "3         Are your milk products sourced locally?   \n",
       "4            What are the prices for cooking oil?   \n",
       "\n",
       "                               cleaned_question  \n",
       "0             do you have fresh banana in stock  \n",
       "1              how much be a kilogram of tomato  \n",
       "2  do you sell local vegetable like sukuma wiki  \n",
       "3           be your milk product source locally  \n",
       "4                what be the price for cook oil  "
      ]
     },
     "execution_count": 3,
     "metadata": {},
     "output_type": "execute_result"
    }
   ],
   "source": [
    "\n",
    "import nltk\n",
    "import spacy\n",
    "import string\n",
    "\n",
    "# No need for stopwords if we're keeping them\n",
    "# nltk.download('stopwords')  # <-- You can remove this\n",
    "\n",
    "# Load spaCy's small English model\n",
    "nlp = spacy.load(\"en_core_web_sm\")\n",
    "\n",
    "def preprocess_text_with_stopwords(text):\n",
    "    # Lowercase\n",
    "    text = text.lower()\n",
    "    # Remove punctuation\n",
    "    text = text.translate(str.maketrans('', '', string.punctuation))\n",
    "    # Tokenize and lemmatize WITHOUT removing stopwords\n",
    "    doc = nlp(text)\n",
    "    tokens = [token.lemma_ for token in doc if not token.is_punct and not token.is_space]\n",
    "    return \" \".join(tokens)\n",
    "\n",
    "# Apply new preprocessing\n",
    "df[\"cleaned_question\"] = df[\"question\"].apply(preprocess_text_with_stopwords)\n",
    "df[\"cleaned_answer\"] = df[\"answer\"].apply(preprocess_text_with_stopwords)\n",
    "\n",
    "# Preview result\n",
    "df[[\"question\", \"cleaned_question\"]].head()"
   ]
  },
  {
   "cell_type": "code",
   "execution_count": 4,
   "id": "34f8e8ca",
   "metadata": {},
   "outputs": [
    {
     "data": {
      "text/html": [
       "<div>\n",
       "<style scoped>\n",
       "    .dataframe tbody tr th:only-of-type {\n",
       "        vertical-align: middle;\n",
       "    }\n",
       "\n",
       "    .dataframe tbody tr th {\n",
       "        vertical-align: top;\n",
       "    }\n",
       "\n",
       "    .dataframe thead th {\n",
       "        text-align: right;\n",
       "    }\n",
       "</style>\n",
       "<table border=\"1\" class=\"dataframe\">\n",
       "  <thead>\n",
       "    <tr style=\"text-align: right;\">\n",
       "      <th></th>\n",
       "      <th>question</th>\n",
       "      <th>answer</th>\n",
       "      <th>cleaned_question</th>\n",
       "      <th>cleaned_answer</th>\n",
       "    </tr>\n",
       "  </thead>\n",
       "  <tbody>\n",
       "    <tr>\n",
       "      <th>0</th>\n",
       "      <td>Do you have fresh bananas in stock?</td>\n",
       "      <td>Yes, fresh bananas are available daily in the ...</td>\n",
       "      <td>do you have fresh banana in stock</td>\n",
       "      <td>yes fresh banana be available daily in the fru...</td>\n",
       "    </tr>\n",
       "    <tr>\n",
       "      <th>1</th>\n",
       "      <td>How much is a kilogram of tomatoes?</td>\n",
       "      <td>A kilogram of tomatoes currently costs around ...</td>\n",
       "      <td>how much be a kilogram of tomato</td>\n",
       "      <td>a kilogram of tomato currently cost around kes...</td>\n",
       "    </tr>\n",
       "    <tr>\n",
       "      <th>2</th>\n",
       "      <td>Do you sell local vegetables like sukuma wiki?</td>\n",
       "      <td>Yes, we stock sukuma wiki and other local vege...</td>\n",
       "      <td>do you sell local vegetable like sukuma wiki</td>\n",
       "      <td>yes we stock sukuma wiki and other local veget...</td>\n",
       "    </tr>\n",
       "    <tr>\n",
       "      <th>3</th>\n",
       "      <td>Are your milk products sourced locally?</td>\n",
       "      <td>Most of our milk products are sourced from Ken...</td>\n",
       "      <td>be your milk product source locally</td>\n",
       "      <td>most of our milk product be source from kenyan...</td>\n",
       "    </tr>\n",
       "    <tr>\n",
       "      <th>4</th>\n",
       "      <td>What are the prices for cooking oil?</td>\n",
       "      <td>Prices for cooking oil range from KES 350 to K...</td>\n",
       "      <td>what be the price for cook oil</td>\n",
       "      <td>price for cook oil range from kes 350 to kes 1...</td>\n",
       "    </tr>\n",
       "  </tbody>\n",
       "</table>\n",
       "</div>"
      ],
      "text/plain": [
       "                                         question  \\\n",
       "0             Do you have fresh bananas in stock?   \n",
       "1             How much is a kilogram of tomatoes?   \n",
       "2  Do you sell local vegetables like sukuma wiki?   \n",
       "3         Are your milk products sourced locally?   \n",
       "4            What are the prices for cooking oil?   \n",
       "\n",
       "                                              answer  \\\n",
       "0  Yes, fresh bananas are available daily in the ...   \n",
       "1  A kilogram of tomatoes currently costs around ...   \n",
       "2  Yes, we stock sukuma wiki and other local vege...   \n",
       "3  Most of our milk products are sourced from Ken...   \n",
       "4  Prices for cooking oil range from KES 350 to K...   \n",
       "\n",
       "                               cleaned_question  \\\n",
       "0             do you have fresh banana in stock   \n",
       "1              how much be a kilogram of tomato   \n",
       "2  do you sell local vegetable like sukuma wiki   \n",
       "3           be your milk product source locally   \n",
       "4                what be the price for cook oil   \n",
       "\n",
       "                                      cleaned_answer  \n",
       "0  yes fresh banana be available daily in the fru...  \n",
       "1  a kilogram of tomato currently cost around kes...  \n",
       "2  yes we stock sukuma wiki and other local veget...  \n",
       "3  most of our milk product be source from kenyan...  \n",
       "4  price for cook oil range from kes 350 to kes 1...  "
      ]
     },
     "execution_count": 4,
     "metadata": {},
     "output_type": "execute_result"
    }
   ],
   "source": [
    "# Save the cleaned dataset to the current directory\n",
    "df.to_csv(\"carrefour_cleaned_qa_dataset.csv\", index=False)\n",
    "df.head()"
   ]
  },
  {
   "cell_type": "code",
   "execution_count": 5,
   "id": "62f15479",
   "metadata": {},
   "outputs": [
    {
     "data": {
      "text/html": [
       "<div>\n",
       "<style scoped>\n",
       "    .dataframe tbody tr th:only-of-type {\n",
       "        vertical-align: middle;\n",
       "    }\n",
       "\n",
       "    .dataframe tbody tr th {\n",
       "        vertical-align: top;\n",
       "    }\n",
       "\n",
       "    .dataframe thead th {\n",
       "        text-align: right;\n",
       "    }\n",
       "</style>\n",
       "<table border=\"1\" class=\"dataframe\">\n",
       "  <thead>\n",
       "    <tr style=\"text-align: right;\">\n",
       "      <th></th>\n",
       "      <th>cleaned_question</th>\n",
       "      <th>cleaned_answer</th>\n",
       "    </tr>\n",
       "  </thead>\n",
       "  <tbody>\n",
       "    <tr>\n",
       "      <th>0</th>\n",
       "      <td>do you have fresh banana in stock</td>\n",
       "      <td>yes fresh banana be available daily in the fru...</td>\n",
       "    </tr>\n",
       "    <tr>\n",
       "      <th>1</th>\n",
       "      <td>how much be a kilogram of tomato</td>\n",
       "      <td>a kilogram of tomato currently cost around kes...</td>\n",
       "    </tr>\n",
       "    <tr>\n",
       "      <th>2</th>\n",
       "      <td>do you sell local vegetable like sukuma wiki</td>\n",
       "      <td>yes we stock sukuma wiki and other local veget...</td>\n",
       "    </tr>\n",
       "    <tr>\n",
       "      <th>3</th>\n",
       "      <td>be your milk product source locally</td>\n",
       "      <td>most of our milk product be source from kenyan...</td>\n",
       "    </tr>\n",
       "    <tr>\n",
       "      <th>4</th>\n",
       "      <td>what be the price for cook oil</td>\n",
       "      <td>price for cook oil range from kes 350 to kes 1...</td>\n",
       "    </tr>\n",
       "  </tbody>\n",
       "</table>\n",
       "</div>"
      ],
      "text/plain": [
       "                               cleaned_question  \\\n",
       "0             do you have fresh banana in stock   \n",
       "1              how much be a kilogram of tomato   \n",
       "2  do you sell local vegetable like sukuma wiki   \n",
       "3           be your milk product source locally   \n",
       "4                what be the price for cook oil   \n",
       "\n",
       "                                      cleaned_answer  \n",
       "0  yes fresh banana be available daily in the fru...  \n",
       "1  a kilogram of tomato currently cost around kes...  \n",
       "2  yes we stock sukuma wiki and other local veget...  \n",
       "3  most of our milk product be source from kenyan...  \n",
       "4  price for cook oil range from kes 350 to kes 1...  "
      ]
     },
     "execution_count": 5,
     "metadata": {},
     "output_type": "execute_result"
    }
   ],
   "source": [
    "df1 = df[[\"cleaned_question\", \"cleaned_answer\"]]\n",
    "df1.head()"
   ]
  },
  {
   "cell_type": "code",
   "execution_count": 6,
   "id": "a321beb7",
   "metadata": {},
   "outputs": [],
   "source": [
    "# Saving df1 to a CSV file\n",
    "df1.to_csv(\"carrefour_cleaned_qa_dataset_v2.csv\", index=False)\n"
   ]
  },
  {
   "cell_type": "markdown",
   "id": "fd312b1c",
   "metadata": {},
   "source": [
    "### **sentence_transformers**"
   ]
  },
  {
   "cell_type": "code",
   "execution_count": null,
   "id": "1dfff1ce",
   "metadata": {},
   "outputs": [],
   "source": [
    "%pip install sentence-transformers"
   ]
  },
  {
   "cell_type": "code",
   "execution_count": null,
   "id": "89d0a127",
   "metadata": {},
   "outputs": [
    {
     "ename": "ModuleNotFoundError",
     "evalue": "No module named 'sentence_transformers'",
     "output_type": "error",
     "traceback": [
      "\u001b[1;31m---------------------------------------------------------------------------\u001b[0m",
      "\u001b[1;31mModuleNotFoundError\u001b[0m                       Traceback (most recent call last)",
      "Cell \u001b[1;32mIn[7], line 2\u001b[0m\n\u001b[0;32m      1\u001b[0m \u001b[38;5;28;01mimport\u001b[39;00m\u001b[38;5;250m \u001b[39m\u001b[38;5;21;01mpandas\u001b[39;00m\u001b[38;5;250m \u001b[39m\u001b[38;5;28;01mas\u001b[39;00m\u001b[38;5;250m \u001b[39m\u001b[38;5;21;01mpd\u001b[39;00m\n\u001b[1;32m----> 2\u001b[0m \u001b[38;5;28;01mfrom\u001b[39;00m\u001b[38;5;250m \u001b[39m\u001b[38;5;21;01msentence_transformers\u001b[39;00m\u001b[38;5;250m \u001b[39m\u001b[38;5;28;01mimport\u001b[39;00m SentenceTransformer, util\n\u001b[0;32m      4\u001b[0m \u001b[38;5;66;03m# Load cleaned questions and answers\u001b[39;00m\n\u001b[0;32m      5\u001b[0m df \u001b[38;5;241m=\u001b[39m pd\u001b[38;5;241m.\u001b[39mread_csv(\u001b[38;5;124m\"\u001b[39m\u001b[38;5;124mcarrefour_cleaned_qa_dataset_v2.csv\u001b[39m\u001b[38;5;124m\"\u001b[39m)\n",
      "\u001b[1;31mModuleNotFoundError\u001b[0m: No module named 'sentence_transformers'"
     ]
    }
   ],
   "source": [
    "# Import necessary libraries\n",
    "import pandas as pd\n",
    "from sentence_transformers import SentenceTransformer, util\n",
    "\n",
    "# Load cleaned questions and answers\n",
    "df = pd.read_csv(\"carrefour_cleaned_qa_dataset_v2.csv\")\n",
    "\n",
    "# Load a lightweight BERT model\n",
    "model = SentenceTransformer('all-MiniLM-L6-v2')\n",
    "\n",
    "# Encode all questions\n",
    "question_embeddings = model.encode(df['cleaned_question'].tolist(), convert_to_tensor=True)\n",
    "\n",
    "def get_answer_bert(user_query):\n",
    "    query_embedding = model.encode(user_query, convert_to_tensor=True)\n",
    "    # Compute cosine similarities\n",
    "    similarities = util.cos_sim(query_embedding, question_embeddings)[0]\n",
    "    idx = similarities.argmax().item()\n",
    "    return df.iloc[idx]['cleaned_answer']\n",
    "\n",
    "# Example usage\n",
    "print(get_answer_bert(\"What are your opening hours?\"))"
   ]
  },
  {
   "cell_type": "markdown",
   "id": "ae51728b",
   "metadata": {},
   "source": [
    "### **Model Building using TF-IDF**"
   ]
  },
  {
   "cell_type": "code",
   "execution_count": null,
   "id": "679c935b",
   "metadata": {},
   "outputs": [
    {
     "name": "stdout",
     "output_type": "stream",
     "text": [
      "most carrefour store operate from 800 am to 1000 pm daily\n"
     ]
    }
   ],
   "source": [
    "from sklearn.feature_extraction.text import TfidfVectorizer\n",
    "from sklearn.metrics.pairwise import cosine_similarity\n",
    "import pandas as pd\n",
    "\n",
    "# Load cleaned questions and answers\n",
    "df = pd.read_csv(\"carrefour_cleaned_qa_dataset_v2.csv\")\n",
    "\n",
    "vectorizer = TfidfVectorizer()\n",
    "tfidf_matrix = vectorizer.fit_transform(df['cleaned_question'])\n",
    "\n",
    "def get_answer(user_query):\n",
    "    user_query_clean = user_query.lower()\n",
    "    user_vec = vectorizer.transform([user_query_clean])\n",
    "    similarities = cosine_similarity(user_vec, tfidf_matrix)\n",
    "    idx = similarities.argmax()\n",
    "    return df.iloc[idx]['cleaned_answer']\n",
    "\n",
    "# Example usage\n",
    "print(get_answer(\"What are your opening hours?\"))"
   ]
  },
  {
   "cell_type": "code",
   "execution_count": null,
   "id": "06af7ebf",
   "metadata": {},
   "outputs": [
    {
     "name": "stdout",
     "output_type": "stream",
     "text": [
      "Answer: yes fresh banana be available daily in the fruit section\n",
      "Answer: yes all our meat be certify halal\n",
      "Answer: yes all our meat be certify halal\n",
      "Answer: yes mpesa be accept at all carrefour branch\n",
      "Answer: yes fresh banana be available daily in the fruit section\n"
     ]
    }
   ],
   "source": [
    "import pandas as pd\n",
    "from sklearn.feature_extraction.text import TfidfVectorizer\n",
    "from sklearn.metrics.pairwise import cosine_similarity\n",
    "\n",
    "# Load cleaned questions and answers\n",
    "df = pd.read_csv(\"carrefour_cleaned_qa_dataset_v2.csv\")\n",
    "\n",
    "vectorizer = TfidfVectorizer()\n",
    "tfidf_matrix = vectorizer.fit_transform(df['cleaned_question'])\n",
    "\n",
    "def get_answer(user_query):\n",
    "    user_query_clean = user_query.lower()\n",
    "    user_vec = vectorizer.transform([user_query_clean])\n",
    "    similarities = cosine_similarity(user_vec, tfidf_matrix)\n",
    "    idx = similarities.argmax()\n",
    "    return df.iloc[idx]['cleaned_answer']\n",
    "\n",
    "# Interactive loop in notebook\n",
    "while True:\n",
    "    user_input = input(\"Ask a question (or type 'exit' to quit): \")\n",
    "    if user_input.lower() == 'exit':\n",
    "        break\n",
    "    answer = get_answer(user_input)\n",
    "    print(\"Answer:\", answer)"
   ]
  },
  {
   "cell_type": "code",
   "execution_count": null,
   "id": "e27ff45b",
   "metadata": {},
   "outputs": [],
   "source": []
  }
 ],
 "metadata": {
  "kernelspec": {
   "display_name": "Python 3",
   "language": "python",
   "name": "python3"
  },
  "language_info": {
   "codemirror_mode": {
    "name": "ipython",
    "version": 3
   },
   "file_extension": ".py",
   "mimetype": "text/x-python",
   "name": "python",
   "nbconvert_exporter": "python",
   "pygments_lexer": "ipython3",
   "version": "3.10.0"
  }
 },
 "nbformat": 4,
 "nbformat_minor": 5
}
